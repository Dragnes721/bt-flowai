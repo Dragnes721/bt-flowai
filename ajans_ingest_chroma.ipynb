{
 "cells": [
  {
   "cell_type": "code",
   "execution_count": 2,
   "id": "e9e2e627-8a05-4f20-8ab6-86805e9d9424",
   "metadata": {
    "ExecuteTime": {
     "end_time": "2024-07-01T05:29:27.408193900Z",
     "start_time": "2024-07-01T05:29:22.868477700Z"
    }
   },
   "outputs": [],
   "source": [
    "from langchain.document_loaders.pdf import PyPDFDirectoryLoader # Importing PDF loader from Langchain\n",
    "from langchain.text_splitter import RecursiveCharacterTextSplitter # Importing text splitter from Langchain\n",
    "from langchain.embeddings import OpenAIEmbeddings # Importing OpenAI embeddings from Langchain\n",
    "from langchain.schema import Document \n",
    "from langchain.vectorstores.chroma import Chroma \n",
    "from dotenv import load_dotenv \n",
    "from langchain.chat_models import ChatOpenAI \n",
    "import os \n",
    "import shutil \n",
    "from docx import Document\n",
    "from pptx import Presentation\n",
    "import numpy as np"
   ]
  },
  {
   "cell_type": "code",
   "execution_count": 3,
   "id": "19e9aa5d-c9c0-4e0e-be7d-64b413f46c23",
   "metadata": {
    "ExecuteTime": {
     "end_time": "2024-07-01T05:29:27.413859500Z",
     "start_time": "2024-07-01T05:29:27.408193900Z"
    }
   },
   "outputs": [],
   "source": [
    "os.environ['OPENAI_API_KEY'] = ('<open-ai_api_key>')"
   ]
  },
  {
   "cell_type": "markdown",
   "id": "3976e8d2-3b32-41c4-8536-4452d09010ac",
   "metadata": {},
   "source": [
    "## Methods"
   ]
  },
  {
   "cell_type": "code",
   "execution_count": 3,
   "id": "d20eff8b-f404-4b80-8d1c-e76f8160ba69",
   "metadata": {},
   "outputs": [],
   "source": [
    "FOLDER_PATH = './Chroma_Data/'\n",
    "from langchain_community.document_loaders import PyPDFLoader"
   ]
  },
  {
   "cell_type": "code",
   "execution_count": 4,
   "id": "a893129c-4be2-495d-abac-e4f1eeff8e94",
   "metadata": {},
   "outputs": [],
   "source": [
    "def read_word_file(file_path):\n",
    "    doc = Document(os.path.join(FOLDER_PATH, file_path))\n",
    "    full_text = []\n",
    "    for paragraph in doc.paragraphs:\n",
    "        full_text.append(paragraph.text)\n",
    "    return '\\n'.join(full_text)"
   ]
  },
  {
   "cell_type": "code",
   "execution_count": 5,
   "id": "100b86d8-8762-4572-84a4-580d0fa89f1d",
   "metadata": {},
   "outputs": [],
   "source": [
    "# Function to read a PowerPoint file\n",
    "def read_pptx_file(file_path):\n",
    "    prs = Presentation(os.path.join(FOLDER_PATH, file_path))\n",
    "    text_runs = []\n",
    "    for slide in prs.slides:\n",
    "        for shape in slide.shapes:\n",
    "            if not shape.has_text_frame:\n",
    "                continue\n",
    "            for paragraph in shape.text_frame.paragraphs:\n",
    "                for run in paragraph.runs:\n",
    "                    text_runs.append(run.text)\n",
    "    return '\\n'.join(text_runs)"
   ]
  },
  {
   "cell_type": "code",
   "execution_count": 6,
   "id": "a8470cc4-91cf-4ae1-9681-d15ca94ad527",
   "metadata": {},
   "outputs": [],
   "source": [
    "def read_pdf_file(file_path):\n",
    "    \n",
    "    loader = PyPDFLoader(os.path.join(FOLDER_PATH, file_path))\n",
    "    pages = loader.load_and_split()\n",
    "\n",
    "    return_text = \"\"\n",
    "    for page in pages:\n",
    "        return_text += page.page_content + \"\\n\\n\"\n",
    "    \n",
    "    return return_text"
   ]
  },
  {
   "cell_type": "code",
   "execution_count": 7,
   "id": "8c1e28bc-7f17-4ad5-a07b-145b263f4178",
   "metadata": {},
   "outputs": [
    {
     "data": {
      "text/plain": [
       "['Logos Avans Prosedürü V2.docx',\n",
       " 'Logos Avans Prosedürü.docx',\n",
       " 'Logos ERP Ticket Prosedürü.pdf',\n",
       " 'Logos Seyahat Prosedürü Sunumu.pptx',\n",
       " 'Logos_Temsil Ağırlama Prosedürü.pptx',\n",
       " 'Tekstil Şirketi Acil Yardım Prosedürü.docx']"
      ]
     },
     "execution_count": 7,
     "metadata": {},
     "output_type": "execute_result"
    }
   ],
   "source": [
    "os.listdir('./Chroma_Data/')"
   ]
  },
  {
   "cell_type": "code",
   "execution_count": 8,
   "id": "2c40ca66-ed52-4148-98e6-ece7eed15a39",
   "metadata": {},
   "outputs": [
    {
     "name": "stdout",
     "output_type": "stream",
     "text": [
                        
     ]
    }
   ],
   "source": [
    "read_docs = []\n",
    "\n",
    "for doc_file_name in os.listdir('./Chroma_Data/'):\n",
    "    if 'pdf' in doc_file_name:\n",
    "        data = read_pdf_file(doc_file_name)\n",
    "    elif 'pptx' in doc_file_name:\n",
    "        data = read_pptx_file(doc_file_name)\n",
    "    elif 'docx' in doc_file_name:\n",
    "        data = read_word_file(doc_file_name)\n",
    "\n",
    "    \n",
    "    else:\n",
    "        raise ValueError(f\"{doc_file_name} could not found.\")\n",
    "    print(data)\n",
    "    read_docs.append(data)\n",
    "    "
   ]
  },
  {
   "cell_type": "code",
   "execution_count": 9,
   "id": "e21c71e7-c2b7-457c-bf38-9ed126253e92",
   "metadata": {},
   "outputs": [
    {
     "data": {
      "text/plain": [
       "(6,)"
      ]
     },
     "execution_count": 9,
     "metadata": {},
     "output_type": "execute_result"
    }
   ],
   "source": [
    "np.shape(read_docs)"
   ]
  },
  {
   "cell_type": "code",
   "execution_count": 10,
   "id": "dcf818d8-9cdc-4204-8583-6c04e9a83f5e",
   "metadata": {},
   "outputs": [
    {
     "data": {
      "text/plain": [
       "'Tekstil Şirketi Acil Yardım Prosedürü\\n1. Acil Durum Tanımı ve Türleri\\nAcil durumlar, işletme faaliyetlerini kesintiye uğratan veya çalışanların, ziyaretçilerin ya da çevrenin güvenliğini tehdit eden beklenmedik olaylardır. Tekstil sektöründe karşılaşılabilecek acil durum türleri şunlardır:\\nYangın\\nKimyasal dökülme veya sızıntı\\nMakine kazaları\\nDoğal afetler (deprem, sel, fırtına)\\nSağlık acil durumları (bayılma, ciddi yaralanma)\\n2. Acil Durum İletişimi\\nAcil Durum İhbarı: Herhangi bir acil durum fark edildiğinde, derhal acil durum telefon numaraları aranmalıdır. Şirketin iç hat numaraları ve acil durum numaraları, her çalışma alanında görülebilecek şekilde asılmalıdır.\\nAcil Bildirim Sistemi: Şirket içi dijital platform (örneğin, MUÇO sistemi) üzerinden acil durum bildirimi yapılabilir. Acil bildirim modülü, \"Emergency Notification! I\\'m Not Safe!\" gibi hızlı bildirim seçeneklerini içermelidir.\\n3. Acil Durum Ekipleri ve Görevleri\\nAcil Durum Koordinatörü: Acil durum yönetiminden sorumlu ana kişi. Tüm acil durum hazırlık ve müdahale faaliyetlerini koordine eder.\\nİlk Yardım Ekipleri: İlk yardım eğitimi almış çalışanlar, yaralılara ilk müdahaleyi yapar.\\nYangın Söndürme Ekipleri: Yangın söndürme ekipmanlarını kullanarak yangına müdahale eder.\\nTahliye Ekipleri: Tahliye işlemlerini yönlendirir ve güvenli tahliyeyi sağlar.\\n4. Ekipman ve Kaynaklar\\nİlk Yardım Çantaları: Tüm çalışma alanlarında kolay erişilebilir yerlerde bulunmalıdır.\\nYangın Söndürme Cihazları: Düzenli olarak kontrol edilmeli ve bakımları yapılmalıdır.\\nAcil Durum İkaz Sistemleri: Sirenler, anons sistemleri ve acil durum lambaları.\\n5. Acil Durum Müdahale Prosedürleri\\nYangın:\\nYangın alarmı verildiğinde, çalışanlar belirlenen yangın çıkış noktalarına yönlendirilir.\\nYangın söndürme ekipleri yangını kontrol altına almaya çalışır.\\nAcil durum koordinatörü, itfaiye ve diğer acil durum servisleriyle iletişime geçer.\\nKimyasal Dökülme:\\nKimyasal dökülen alan derhal boşaltılır.\\nKimyasal maddeye uygun koruyucu ekipman giyilir.\\nKimyasal madde temizlik ekipleri tarafından uygun yöntemlerle temizlenir.\\nMakine Kazaları:\\nKazazedeye ilk yardım ekipleri müdahale eder.\\nMakine hemen durdurulur ve teknik ekip tarafından kontrol edilir.\\nKaza raporu hazırlanır ve ilgili birimlere bildirilir.\\n6. Tahliye Prosedürleri\\nAcil durumlarda, çalışanlar en yakın ve güvenli tahliye noktalarına yönlendirilir.\\nHer bölüm için belirlenen toplanma noktalarına güvenli şekilde ulaşılır.\\nTahliye ekipleri, çalışanların eksiksiz ve güvenli şekilde tahliye edildiğinden emin olur.\\n7. Eğitim ve Tatbikatlar\\nTüm çalışanlar, düzenli aralıklarla acil durum prosedürleri konusunda eğitilir.\\nYıllık olarak acil durum tatbikatları gerçekleştirilir ve prosedürlerin etkinliği değerlendirilir.\\n8. İyileştirme ve Geri Bildirim\\nHer acil durum sonrası, müdahale süreci değerlendirilir.\\nGerekli görülen iyileştirmeler yapılır ve çalışanlardan geri bildirim alınır.\\nSonuç\\nBu acil yardım prosedürü, tekstil şirketindeki tüm çalışanların güvenliğini sağlamak ve acil durumlarda etkin ve hızlı müdahale edebilmek için hazırlanmıştır. Prosedürlerin düzenli olarak gözden geçirilmesi ve güncellenmesi, şirketin acil durumlara karşı hazırlıklı olmasını sağlayacaktır.\\n'"
      ]
     },
     "execution_count": 10,
     "metadata": {},
     "output_type": "execute_result"
    }
   ],
   "source": [
    "read_docs[-1]"
   ]
  },
  {
   "cell_type": "code",
   "execution_count": 11,
   "id": "d81b8b2e-b691-455b-a4bd-72702eebd5fb",
   "metadata": {},
   "outputs": [],
   "source": [
    "def split_text(documents: list):\n",
    "    \"\"\"\n",
    "    Split the text content of the given list of Document objects into smaller chunks.\n",
    "    Args:\n",
    "    documents (list[Document]): List of Document objects containing text content to split.\n",
    "    Returns:\n",
    "    list[Document]: List of Document objects representing the split text chunks.\n",
    "    \"\"\"\n",
    "    # Initialize text splitter with specified parameters\n",
    "    text_splitter = RecursiveCharacterTextSplitter(\n",
    "    chunk_size=400, # Size of each chunk in characters\n",
    "    chunk_overlap=200, # Overlap between consecutive chunks\n",
    "    length_function=len, # Function to compute the length of the text\n",
    "    add_start_index=True, # Flag to add start index to each chunk\n",
    "    )\n",
    "    \n",
    "    # Split documents into smaller chunks using text splitter\n",
    "    chunks = []\n",
    "    for document in documents:\n",
    "        chunks.extend(text_splitter.split_text(document)) \n",
    "    \n",
    "    \n",
    "    return chunks # Return the list of split text chunks\n",
    "    \n",
    "    \n",
    "chunks = split_text(read_docs)"
   ]
  },
  {
   "cell_type": "code",
   "execution_count": 12,
   "id": "652516f4-2a3f-4760-9dff-0c076161faba",
   "metadata": {},
   "outputs": [
    {
     "data": {
      "text/plain": [
       "(132,)"
      ]
     },
     "execution_count": 12,
     "metadata": {},
     "output_type": "execute_result"
    }
   ],
   "source": [
    "np.shape(chunks)"
   ]
  },
  {
   "cell_type": "code",
   "execution_count": 13,
   "id": "7eee2fcd-28fb-40d3-9450-54bab31c3366",
   "metadata": {},
   "outputs": [
    {
     "name": "stderr",
     "output_type": "stream",
     "text": [
      "C:\\Users\\halilibrahim.hatun\\Documents\\venvs\\uniteks_cpu\\Lib\\site-packages\\langchain_core\\_api\\deprecation.py:117: LangChainDeprecationWarning: The class `langchain_community.embeddings.openai.OpenAIEmbeddings` was deprecated in langchain-community 0.0.9 and will be removed in 0.2.0. An updated version of the class exists in the langchain-openai package and should be used instead. To use it run `pip install -U langchain-openai` and import as `from langchain_openai import OpenAIEmbeddings`.\n",
      "  warn_deprecated(\n"
     ]
    },
    {
     "name": "stdout",
     "output_type": "stream",
     "text": [
      "Saved 132 chunks to C:\\Users\\halilibrahim.hatun\\Documents\\Kuika-AI-Hackathon\\chroma_db.\n"
     ]
    }
   ],
   "source": [
    "# Path to the directory to save Chroma database\n",
    "CHROMA_PATH = \"C:\\\\Users\\\\halilibrahim.hatun\\\\Documents\\\\Kuika-AI-Hackathon\\chroma_db\"\n",
    "def save_to_chroma(chunks: list):\n",
    "  \"\"\"\n",
    "  Save the given list of Document objects to a Chroma database.\n",
    "  Args:\n",
    "  chunks (list[Document]): List of Document objects representing text chunks to save.\n",
    "  Returns:\n",
    "  None\n",
    "  \"\"\"\n",
    "\n",
    "  # Clear out the existing database directory if it exists\n",
    "  if os.path.exists(CHROMA_PATH):\n",
    "    shutil.rmtree(CHROMA_PATH)\n",
    "\n",
    "  # Create a new Chroma database from the documents using OpenAI embeddings\n",
    "  db = Chroma.from_texts(\n",
    "    chunks,\n",
    "    OpenAIEmbeddings(model='text-embedding-3-large',\n",
    "                    api_key=os.environ['OPENAI_API_KEY']),\n",
    "    persist_directory=CHROMA_PATH\n",
    "  )\n",
    "\n",
    "  # Persist the database to disk\n",
    "  db.persist()\n",
    "  print(f\"Saved {len(chunks)} chunks to {CHROMA_PATH}.\")\n",
    "\n",
    "\n",
    "save_to_chroma(chunks=chunks)"
   ]
  },
  {
   "cell_type": "markdown",
   "id": "676641cc-5c10-4c20-bd43-b2399e863658",
   "metadata": {},
   "source": [
    "## Inferencing"
   ]
  },
  {
   "cell_type": "code",
   "execution_count": 14,
   "id": "6986f45b-c708-4444-a705-211357040d3c",
   "metadata": {},
   "outputs": [],
   "source": [
    "# YOU MUST - Use same embedding function as before\n",
    "embedding_function = OpenAIEmbeddings(model='text-embedding-3-large',\n",
    "                api_key=os.environ['OPENAI_API_KEY'])\n",
    "\n",
    "# Prepare the database\n",
    "db = Chroma(persist_directory=CHROMA_PATH, embedding_function=embedding_function)"
   ]
  },
  {
   "cell_type": "code",
   "execution_count": 25,
   "id": "93725c64-a945-46eb-846f-94a632936370",
   "metadata": {},
   "outputs": [],
   "source": [
    "def query_rag(query_text):\n",
    "    \"\"\"\n",
    "    Query a Retrieval-Augmented Generation (RAG) system using Chroma database and OpenAI.\n",
    "    Args:\n",
    "    - query_text (str): The text to query the RAG system with.\n",
    "    Returns:\n",
    "    - formatted_response (str): Formatted response including the generated text and sources.\n",
    "    - response_text (str): The generated response text.\n",
    "    \"\"\"\n",
    "    \n",
    "    \n",
    "    # Retrieving the context from the DB using similarity search\n",
    "    results = db.similarity_search_with_relevance_scores(query_text, k=5)\n",
    "    \n",
    "    # Check if there are any matching results or if the relevance score is too low\n",
    "    if len(results) == 0 or results[0][1] < 0.7:\n",
    "        print(f\"Unable to find matching results.\")\n",
    "    \n",
    "\n",
    "    \n",
    "    return [doc.page_content for doc, _score in results]\n"
   ]
  },
  {
   "cell_type": "code",
   "execution_count": 26,
   "id": "ffa0e59e-0fcc-403f-b126-bd7352f62a32",
   "metadata": {},
   "outputs": [
    {
     "name": "stdout",
     "output_type": "stream",
     "text": [
      "Unable to find matching results.\n",
      "['Logos Seyahat Prosedürü Sunumu\\nAgenda\\nGiriş\\nKapsam ve Sorumlular\\nTanımlar\\nSeyahat Onay Süreci\\nSeyahat Sebepleri\\nSınıflandırma ve Limitler\\nUlaşım\\nKonaklama ve Yemek\\nŞirket Tarafından Karşılanan Masraflar\\nŞirket Kredi Kartları\\nSeyahat Formu ve Seyahat Avansı\\nSeyahat Masraflarının Kapatılması\\nGiriş\\nKapsam ve Sorumlular: Kapsam\\nProsedür\\n \\nKapsamı\\nLogos \\nçalışanları\\n \\niçin\\n \\ngeçerlidir\\nÜst \\nyönetim', 'Seyahat Süresi: İşin gerektirdiği süre olup, 15 günü aşmayan seyahatler iş seyahati kapsamında değerlendirilir. 15 günü aşan uzun süreli seyahatler uygulama esasları Genel Müdür onayına tabidir.\\nSeyahat İzin Formu: Çalışanın iş seyahatinin amacını açıklamak ve seyahat onayı almak için kullanılan formdur.\\n4. Sorumluluklar:\\nBu prosedürün uygulanmasından Genel Müdür ve İK Müdürü sorumludur.', 'Tanımlar\\nSeyahat Onay Süreci\\nYurtiçi Seyahat Onayı\\nÖnce Bölüm Müdürü onayı gereklidir\\nArdından bir üst yönetici onayı alınır\\nYurtdışı Seyahat Onayı\\nÖnce Bölüm Müdürü onayı gereklidir\\nSonra bir üst yönetici onayı alınır\\nEn son Genel Müdür onayı ile tamamlanır\\nOnay Süreci\\nFR.UNI-012 - Seyahat Formu kullanılır\\nBordro Bildirimi\\nSeyahat tarihleri Bordro bölümüne mail ile bildirilmelidir', 'Şirket Kredi Kartları\\nSeyahat Formu ve Seyahat Avansı\\nSeyahat Masraflarının Kapatılması\\nGiriş\\nKapsam ve Sorumlular: Kapsam\\nProsedür\\n \\nKapsamı\\nLogos \\nçalışanları\\n \\niçin\\n \\ngeçerlidir\\nÜst \\nyönetim\\n \\nhariç\\n, \\ngörev\\n \\ngereği\\n \\nseyahat\\n \\nedenler\\n \\niçerir\\nKapsam ve Sorumlular: Bölüm Müdürleri\\nSeyahat Prosedürleri\\nBölüm Müdürleri, seyahat işlemlerinin uygunluğundan sorumludur.', 'Ekler:\\nEk-1: Ülkeler\\nEk-2: Yurtiçi ve Yurtdışı Harcama Limitleri\\nEk-3: Seyahat İzin Formu\\nEk-4: Avans Talep Formu\\nBu prosedür, Logos Şirketi çalışanlarının iş seyahatlerinde karşılaşabilecekleri tüm durumları düzenler ve şeffaf bir süreç sunar. Çalışanların seyahat masraflarını şirket politikalarına uygun bir şekilde karşılamayı hedefler.']\n"
     ]
    }
   ],
   "source": [
    "# Let's call our function we have defined\n",
    "response_text = query_rag(\"Seyahat prosedüründen bahset\")\n",
    "# and finally, inspect our final response!\n",
    "print(response_text)"
   ]
  },
  {
   "cell_type": "code",
   "execution_count": null,
   "id": "8c40da60-0d28-4610-aefa-e98486673603",
   "metadata": {},
   "outputs": [],
   "source": []
  }
 ],
 "metadata": {
  "kernelspec": {
   "display_name": "Uniteks CPU (Python 3.11)",
   "language": "python",
   "name": "unitekscpu"
  },
  "language_info": {
   "codemirror_mode": {
    "name": "ipython",
    "version": 3
   },
   "file_extension": ".py",
   "mimetype": "t,
    "    return_text = \"\"\n",
    "    for page in pages:\n",
    "        return_text += page.page_content + \"\\n\\n\"\n",
    "    \n",
    "    return return_text"
   ]
  },
  {
   "cell_type": "code",
   "execution_count": 7,
   "id": "8c1e28bc-7f17-4ad5-a07b-145b263f4178",
   "metadata": {},
   "outputs": [
    {
     "data": {
      "text/plain": [
       "['Logos Avans Prosedürü V2.docx',\n",
       " 'Logos Avans Prosedürü.docx',\n",
       " 'Logos ERP Ticket Prosedürü.pdf',\n",
       " 'Logos Seyahat Prosedürü Sunumu.pptx',\n",
       " 'Logos_Temsil Ağırlama Prosedürü.pptx',\n",
       " 'Tekstil Şirketi Acil Yardım Prosedürü.docx']"
      ]
     },
     "execution_count": 7,
     "metadata": {},
     "output_type": "execute_result"
    }
   ],
   "source": [
    "os.listdir('./Chroma_Data/')"
   ]
  },
  {
   "cell_type": "code",
   "execution_count": 8,
   "id": "2c40ca66-ed52-4148-98e6-ece7eed15a39",
   "metadata": {},
   "outputs": [
    {
     "name": "stdout",
     "output_type": "stream",
     "text": [
                        
     ]
    }
   ],
   "source": [
    "read_docs = []\n",
    "\n",
    "for doc_file_name in os.listdir('./Chroma_Data/'):\n",
    "    if 'pdf' in doc_file_name:\n",
    "        data = read_pdf_file(doc_file_name)\n",
    "    elif 'pptx' in doc_file_name:\n",
    "        data = read_pptx_file(doc_file_name)\n",
    "    elif 'docx' in doc_file_name:\n",
    "        data = read_word_file(doc_file_name)\n",
    "\n",
    "    \n",
    "    else:\n",
    "        raise ValueError(f\"{doc_file_name} could not found.\")\n",
    "    print(data)\n",
    "    read_docs.append(data)\n",
    "    "
   ]
  },
  {
   "cell_type": "code",
   "execution_count": 9,
   "id": "e21c71e7-c2b7-457c-bf38-9ed126253e92",
   "metadata": {},
   "outputs": [
    {
     "data": {
      "text/plain": [
       "(6,)"
      ]
     },
     "execution_count": 9,
     "metadata": {},
     "output_type": "execute_result"
    }
   ],
   "source": [
    "np.shape(read_docs)"
   ]
  },
  {
   "cell_type": "code",
   "execution_count": 10,
   "id": "dcf818d8-9cdc-4204-8583-6c04e9a83f5e",
   "metadata": {},
   "outputs": [
    {
     "data": {
      "text/plain": [
       "'Tekstil Şirketi Acil Yardım Prosedürü\\n1. Acil Durum Tanımı ve Türleri\\nAcil durumlar, işletme faaliyetlerini kesintiye uğratan veya çalışanların, ziyaretçilerin ya da çevrenin güvenliğini tehdit eden beklenmedik olaylardır. Tekstil sektöründe karşılaşılabilecek acil durum türleri şunlardır:\\nYangın\\nKimyasal dökülme veya sızıntı\\nMakine kazaları\\nDoğal afetler (deprem, sel, fırtına)\\nSağlık acil durumları (bayılma, ciddi yaralanma)\\n2. Acil Durum İletişimi\\nAcil Durum İhbarı: Herhangi bir acil durum fark edildiğinde, derhal acil durum telefon numaraları aranmalıdır. Şirketin iç hat numaraları ve acil durum numaraları, her çalışma alanında görülebilecek şekilde asılmalıdır.\\nAcil Bildirim Sistemi: Şirket içi dijital platform (örneğin, MUÇO sistemi) üzerinden acil durum bildirimi yapılabilir. Acil bildirim modülü, \"Emergency Notification! I\\'m Not Safe!\" gibi hızlı bildirim seçeneklerini içermelidir.\\n3. Acil Durum Ekipleri ve Görevleri\\nAcil Durum Koordinatörü: Acil durum yönetiminden sorumlu ana kişi. Tüm acil durum hazırlık ve müdahale faaliyetlerini koordine eder.\\nİlk Yardım Ekipleri: İlk yardım eğitimi almış çalışanlar, yaralılara ilk müdahaleyi yapar.\\nYangın Söndürme Ekipleri: Yangın söndürme ekipmanlarını kullanarak yangına müdahale eder.\\nTahliye Ekipleri: Tahliye işlemlerini yönlendirir ve güvenli tahliyeyi sağlar.\\n4. Ekipman ve Kaynaklar\\nİlk Yardım Çantaları: Tüm çalışma alanlarında kolay erişilebilir yerlerde bulunmalıdır.\\nYangın Söndürme Cihazları: Düzenli olarak kontrol edilmeli ve bakımları yapılmalıdır.\\nAcil Durum İkaz Sistemleri: Sirenler, anons sistemleri ve acil durum lambaları.\\n5. Acil Durum Müdahale Prosedürleri\\nYangın:\\nYangın alarmı verildiğinde, çalışanlar belirlenen yangın çıkış noktalarına yönlendirilir.\\nYangın söndürme ekipleri yangını kontrol altına almaya çalışır.\\nAcil durum koordinatörü, itfaiye ve diğer acil durum servisleriyle iletişime geçer.\\nKimyasal Dökülme:\\nKimyasal dökülen alan derhal boşaltılır.\\nKimyasal maddeye uygun koruyucu ekipman giyilir.\\nKimyasal madde temizlik ekipleri tarafından uygun yöntemlerle temizlenir.\\nMakine Kazaları:\\nKazazedeye ilk yardım ekipleri müdahale eder.\\nMakine hemen durdurulur ve teknik ekip tarafından kontrol edilir.\\nKaza raporu hazırlanır ve ilgili birimlere bildirilir.\\n6. Tahliye Prosedürleri\\nAcil durumlarda, çalışanlar en yakın ve güvenli tahliye noktalarına yönlendirilir.\\nHer bölüm için belirlenen toplanma noktalarına güvenli şekilde ulaşılır.\\nTahliye ekipleri, çalışanların eksiksiz ve güvenli şekilde tahliye edildiğinden emin olur.\\n7. Eğitim ve Tatbikatlar\\nTüm çalışanlar, düzenli aralıklarla acil durum prosedürleri konusunda eğitilir.\\nYıllık olarak acil durum tatbikatları gerçekleştirilir ve prosedürlerin etkinliği değerlendirilir.\\n8. İyileştirme ve Geri Bildirim\\nHer acil durum sonrası, müdahale süreci değerlendirilir.\\nGerekli görülen iyileştirmeler yapılır ve çalışanlardan geri bildirim alınır.\\nSonuç\\nBu acil yardım prosedürü, tekstil şirketindeki tüm çalışanların güvenliğini sağlamak ve acil durumlarda etkin ve hızlı müdahale edebilmek için hazırlanmıştır. Prosedürlerin düzenli olarak gözden geçirilmesi ve güncellenmesi, şirketin acil durumlara karşı hazırlıklı olmasını sağlayacaktır.\\n'"
      ]
     },
     "execution_count": 10,
     "metadata": {},
     "output_type": "execute_result"
    }
   ],
   "source": [
    "read_docs[-1]"
   ]
  },
  {
   "cell_type": "code",
   "execution_count": 11,
   "id": "d81b8b2e-b691-455b-a4bd-72702eebd5fb",
   "metadata": {},
   "outputs": [],
   "source": [
    "def split_text(documents: list):\n",
    "    \"\"\"\n",
    "    Split the text content of the given list of Document objects into smaller chunks.\n",
    "    Args:\n",
    "    documents (list[Document]): List of Document objects containing text content to split.\n",
    "    Returns:\n",
    "    list[Document]: List of Document objects representing the split text chunks.\n",
    "    \"\"\"\n",
    "    # Initialize text splitter with specified parameters\n",
    "    text_splitter = RecursiveCharacterTextSplitter(\n",
    "    chunk_size=400, # Size of each chunk in characters\n",
    "    chunk_overlap=200, # Overlap between consecutive chunks\n",
    "    length_function=len, # Function to compute the length of the text\n",
    "    add_start_index=True, # Flag to add start index to each chunk\n",
    "    )\n",
    "    \n",
    "    # Split documents into smaller chunks using text splitter\n",
    "    chunks = []\n",
    "    for document in documents:\n",
    "        chunks.extend(text_splitter.split_text(document)) \n",
    "    \n",
    "    \n",
    "    return chunks # Return the list of split text chunks\n",
    "    \n",
    "    \n",
    "chunks = split_text(read_docs)"
   ]
  },
  {
   "cell_type": "code",
   "execution_count": 12,
   "id": "652516f4-2a3f-4760-9dff-0c076161faba",
   "metadata": {},
   "outputs": [
    {
     "data": {
      "text/plain": [
       "(132,)"
      ]
     },
     "execution_count": 12,
     "metadata": {},
     "output_type": "execute_result"
    }
   ],
   "source": [
    "np.shape(chunks)"
   ]
  },
  {
   "cell_type": "code",
   "execution_count": 13,
   "id": "7eee2fcd-28fb-40d3-9450-54bab31c3366",
   "metadata": {},
   "outputs": [
    {
     "name": "stderr",
     "output_type": "stream",
     "text": [
      "C:\\Users\\halilibrahim.hatun\\Documents\\venvs\\uniteks_cpu\\Lib\\site-packages\\langchain_core\\_api\\deprecation.py:117: LangChainDeprecationWarning: The class `langchain_community.embeddings.openai.OpenAIEmbeddings` was deprecated in langchain-community 0.0.9 and will be removed in 0.2.0. An updated version of the class exists in the langchain-openai package and should be used instead. To use it run `pip install -U langchain-openai` and import as `from langchain_openai import OpenAIEmbeddings`.\n",
      "  warn_deprecated(\n"
     ]
    },
    {
     "name": "stdout",
     "output_type": "stream",
     "text": [
      "Saved 132 chunks to C:\\Users\\halilibrahim.hatun\\Documents\\Kuika-AI-Hackathon\\chroma_db.\n"
     ]
    }
   ],
   "source": [
    "# Path to the directory to save Chroma database\n",
    "CHROMA_PATH = \"C:\\\\Users\\\\halilibrahim.hatun\\\\Documents\\\\Kuika-AI-Hackathon\\chroma_db\"\n",
    "def save_to_chroma(chunks: list):\n",
    "  \"\"\"\n",
    "  Save the given list of Document objects to a Chroma database.\n",
    "  Args:\n",
    "  chunks (list[Document]): List of Document objects representing text chunks to save.\n",
    "  Returns:\n",
    "  None\n",
    "  \"\"\"\n",
    "\n",
    "  # Clear out the existing database directory if it exists\n",
    "  if os.path.exists(CHROMA_PATH):\n",
    "    shutil.rmtree(CHROMA_PATH)\n",
    "\n",
    "  # Create a new Chroma database from the documents using OpenAI embeddings\n",
    "  db = Chroma.from_texts(\n",
    "    chunks,\n",
    "    OpenAIEmbeddings(model='text-embedding-3-large',\n",
    "                    api_key=os.environ['OPENAI_API_KEY']),\n",
    "    persist_directory=CHROMA_PATH\n",
    "  )\n",
    "\n",
    "  # Persist the database to disk\n",
    "  db.persist()\n",
    "  print(f\"Saved {len(chunks)} chunks to {CHROMA_PATH}.\")\n",
    "\n",
    "\n",
    "save_to_chroma(chunks=chunks)"
   ]
  },
  {
   "cell_type": "markdown",
   "id": "676641cc-5c10-4c20-bd43-b2399e863658",
   "metadata": {},
   "source": [
    "## Inferencing"
   ]
  },
  {
   "cell_type": "code",
   "execution_count": 14,
   "id": "6986f45b-c708-4444-a705-211357040d3c",
   "metadata": {},
   "outputs": [],
   "source": [
    "# YOU MUST - Use same embedding function as before\n",
    "embedding_function = OpenAIEmbeddings(model='text-embedding-3-large',\n",
    "                api_key=os.environ['OPENAI_API_KEY'])\n",
    "\n",
    "# Prepare the database\n",
    "db = Chroma(persist_directory=CHROMA_PATH, embedding_function=embedding_function)"
   ]
  },
  {
   "cell_type": "code",
   "execution_count": 25,
   "id": "93725c64-a945-46eb-846f-94a632936370",
   "metadata": {},
   "outputs": [],
   "source": [
    "def query_rag(query_text):\n",
    "    \"\"\"\n",
    "    Query a Retrieval-Augmented Generation (RAG) system using Chroma database and OpenAI.\n",
    "    Args:\n",
    "    - query_text (str): The text to query the RAG system with.\n",
    "    Returns:\n",
    "    - formatted_response (str): Formatted response including the generated text and sources.\n",
    "    - response_text (str): The generated response text.\n",
    "    \"\"\"\n",
    "    \n",
    "    \n",
    "    # Retrieving the context from the DB using similarity search\n",
    "    results = db.similarity_search_with_relevance_scores(query_text, k=5)\n",
    "    \n",
    "    # Check if there are any matching results or if the relevance score is too low\n",
    "    if len(results) == 0 or results[0][1] < 0.7:\n",
    "        print(f\"Unable to find matching results.\")\n",
    "    \n",
    "\n",
    "    \n",
    "    return [doc.page_content for doc, _score in results]\n"
   ]
  },
  {
   "cell_type": "code",
   "execution_count": 26,
   "id": "ffa0e59e-0fcc-403f-b126-bd7352f62a32",
   "metadata": {},
   "outputs": [
    {
     "name": "stdout",
     "output_type": "stream",
     "text": [
      "Unable to find matching results.\n",
      "['Logos Seyahat Prosedürü Sunumu\\nAgenda\\nGiriş\\nKapsam ve Sorumlular\\nTanımlar\\nSeyahat Onay Süreci\\nSeyahat Sebepleri\\nSınıflandırma ve Limitler\\nUlaşım\\nKonaklama ve Yemek\\nŞirket Tarafından Karşılanan Masraflar\\nŞirket Kredi Kartları\\nSeyahat Formu ve Seyahat Avansı\\nSeyahat Masraflarının Kapatılması\\nGiriş\\nKapsam ve Sorumlular: Kapsam\\nProsedür\\n \\nKapsamı\\nLogos \\nçalışanları\\n \\niçin\\n \\ngeçerlidir\\nÜst \\nyönetim', 'Seyahat Süresi: İşin gerektirdiği süre olup, 15 günü aşmayan seyahatler iş seyahati kapsamında değerlendirilir. 15 günü aşan uzun süreli seyahatler uygulama esasları Genel Müdür onayına tabidir.\\nSeyahat İzin Formu: Çalışanın iş seyahatinin amacını açıklamak ve seyahat onayı almak için kullanılan formdur.\\n4. Sorumluluklar:\\nBu prosedürün uygulanmasından Genel Müdür ve İK Müdürü sorumludur.', 'Tanımlar\\nSeyahat Onay Süreci\\nYurtiçi Seyahat Onayı\\nÖnce Bölüm Müdürü onayı gereklidir\\nArdından bir üst yönetici onayı alınır\\nYurtdışı Seyahat Onayı\\nÖnce Bölüm Müdürü onayı gereklidir\\nSonra bir üst yönetici onayı alınır\\nEn son Genel Müdür onayı ile tamamlanır\\nOnay Süreci\\nFR.UNI-012 - Seyahat Formu kullanılır\\nBordro Bildirimi\\nSeyahat tarihleri Bordro bölümüne mail ile bildirilmelidir', 'Şirket Kredi Kartları\\nSeyahat Formu ve Seyahat Avansı\\nSeyahat Masraflarının Kapatılması\\nGiriş\\nKapsam ve Sorumlular: Kapsam\\nProsedür\\n \\nKapsamı\\nLogos \\nçalışanları\\n \\niçin\\n \\ngeçerlidir\\nÜst \\nyönetim\\n \\nhariç\\n, \\ngörev\\n \\ngereği\\n \\nseyahat\\n \\nedenler\\n \\niçerir\\nKapsam ve Sorumlular: Bölüm Müdürleri\\nSeyahat Prosedürleri\\nBölüm Müdürleri, seyahat işlemlerinin uygunluğundan sorumludur.', 'Ekler:\\nEk-1: Ülkeler\\nEk-2: Yurtiçi ve Yurtdışı Harcama Limitleri\\nEk-3: Seyahat İzin Formu\\nEk-4: Avans Talep Formu\\nBu prosedür, Logos Şirketi çalışanlarının iş seyahatlerinde karşılaşabilecekleri tüm durumları düzenler ve şeffaf bir süreç sunar. Çalışanların seyahat masraflarını şirket politikalarına uygun bir şekilde karşılamayı hedefler.']\n"
     ]
    }
   ],
   "source": [
    "# Let's call our function we have defined\n",
    "response_text = query_rag(\"Seyahat prosedüründen bahset\")\n",
    "# and finally, inspect our final response!\n",
    "print(response_text)"
   ]
  },
  {
   "cell_type": "code",
   "execution_count": null,
   "id": "8c40da60-0d28-4610-aefa-e98486673603",
   "metadata": {},
   "outputs": [],
   "source": []
  }
 ],
 "metadata": {
  "kernelspec": {
   "display_name": "Uniteks CPU (Python 3.11)",
   "language": "python",
   "name": "unitekscpu"
  },
  "language_info": {
   "codemirror_mode": {
    "name": "ipython",
    "version": 3
   },
   "file_extension": ".py",
   "mimetype": "text/x-python",
   "name": "python",
   "nbconvert_exporter": "python",
   "pygments_lexer": "ipython3",
   "version": "3.11.5"
  }
 },
 "nbformat": 4,
 "nbformat_minor": 5
}
ext/x-python",
   "name": "python",
   "nbconvert_exporter": "python",
   "pygments_lexer": "ipython3",
   "version": "3.11.5"
  }
 },
 "nbformat": 4,
 "nbformat_minor": 5
}
